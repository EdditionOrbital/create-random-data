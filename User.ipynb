{
 "cells": [
  {
   "cell_type": "code",
   "execution_count": 104,
   "id": "4e91402f",
   "metadata": {},
   "outputs": [],
   "source": [
    "import json\n",
    "import names\n",
    "import random"
   ]
  },
  {
   "cell_type": "code",
   "execution_count": 105,
   "id": "e547ab3c",
   "metadata": {},
   "outputs": [],
   "source": [
    "def getJsonFromFile(file):\n",
    "    f = open(file, 'r')\n",
    "    return json.load(f)"
   ]
  },
  {
   "cell_type": "code",
   "execution_count": 106,
   "id": "7a4e6ad6",
   "metadata": {},
   "outputs": [],
   "source": [
    "modules = getJsonFromFile('modules.json')\n",
    "lessons = getJsonFromFile('lessons.json')"
   ]
  },
  {
   "cell_type": "code",
   "execution_count": 108,
   "id": "7c12f015",
   "metadata": {},
   "outputs": [],
   "source": [
    "N = 3200\n",
    "ALPHABET = \"QWERTYUIOPASDFGHJKLZXCVBNM\"\n",
    "YEARS = [2019, 2020, 2021]"
   ]
  },
  {
   "cell_type": "code",
   "execution_count": 133,
   "id": "b43c8ca4",
   "metadata": {},
   "outputs": [],
   "source": [
    "def modfys(mod_code, year, sem):\n",
    "    code, y, s = mod_code.split('-')\n",
    "    y = int(y)\n",
    "    s = int(s)\n",
    "    return y == year and s == sem"
   ]
  },
  {
   "cell_type": "code",
   "execution_count": 134,
   "id": "87006b91",
   "metadata": {},
   "outputs": [],
   "source": [
    "class ModuleTaken:\n",
    "    def __init__(self, moduleId, role):\n",
    "        self.moduleId = moduleId\n",
    "        self.setLessons()\n",
    "        self.role = role\n",
    "        \n",
    "    def setLessons(self):\n",
    "        self.lessons = []\n",
    "        lesson_choices = list(filter(lambda l: l['moduleId'] == self.moduleId, lessons))\n",
    "        for typ in ['Lecture', 'Tutorial']:\n",
    "            typ_choices = list(filter(lambda l: l['lessonType'] == typ, lesson_choices))\n",
    "            num = min(len(typ_choices), 2)\n",
    "            chosen = random.sample(typ_choices, num)\n",
    "            self.lessons += [chose['code'] for chose in chosen]\n",
    "            \n",
    "    def todict(self):\n",
    "        return {\n",
    "            \"moduleId\" : self.moduleId,\n",
    "            \"lessons\" : self.lessons,\n",
    "            \"role\" : self.role\n",
    "        }"
   ]
  },
  {
   "cell_type": "code",
   "execution_count": 135,
   "id": "ab9f9aad",
   "metadata": {},
   "outputs": [],
   "source": [
    "class RandomStudent:\n",
    "    def __init__(self):\n",
    "        self.mYear = random.choice(YEARS)\n",
    "        self.idx = f\"A{str(self.mYear + 4)[-3:]}{random.randint(1000, 9999)}{random.choice(ALPHABET)}\"\n",
    "        self.firstName = names.get_first_name()\n",
    "        self.lastName = names.get_last_name()\n",
    "        self.email = f\"{self.firstName.lower()}{random.choice(['','.','_'])}{self.lastName.lower()}@u.nus.edu\"\n",
    "        self.password = '5e884898da28047151d0e56f8dc6292773603d0d6aabbdd62a11ef721d1542d8'\n",
    "        self.set_modules()\n",
    "    \n",
    "    def set_modules(self):\n",
    "        self.modules = []\n",
    "        years = list(filter(lambda x: x >= self.mYear, YEARS))\n",
    "        for year in years:\n",
    "            for sem in [1, 2]:\n",
    "                choices = list(filter(lambda x: modfys(x['id'], year, sem), modules))\n",
    "                choices = [choice['id'] for choice in choices]\n",
    "                choices = random.sample(choices, random.choice([5,6]))\n",
    "                for mod in choices:\n",
    "                    self.modules.append(ModuleTaken(mod, 'Student'))\n",
    "                    \n",
    "    def todict(self):\n",
    "        return {\n",
    "            \"id\" : self.idx,\n",
    "            \"firstName\" : self.firstName,\n",
    "            \"lastName\" : self.lastName,\n",
    "            \"modules\" : [module.todict() for module in self.modules],\n",
    "            \"email\" : self.email,\n",
    "            \"password\" : self.password,\n",
    "            \"mYear\" : self.mYear\n",
    "        }"
   ]
  },
  {
   "cell_type": "code",
   "execution_count": 136,
   "id": "69290301",
   "metadata": {},
   "outputs": [],
   "source": [
    "students = []\n",
    "for _ in range(N):\n",
    "    students.append(RandomStudent())"
   ]
  },
  {
   "cell_type": "code",
   "execution_count": 138,
   "id": "17397be5",
   "metadata": {},
   "outputs": [],
   "source": [
    "students = [student.todict() for student in students]"
   ]
  },
  {
   "cell_type": "code",
   "execution_count": 139,
   "id": "38241464",
   "metadata": {},
   "outputs": [
    {
     "data": {
      "text/plain": [
       "5941392"
      ]
     },
     "execution_count": 139,
     "metadata": {},
     "output_type": "execute_result"
    }
   ],
   "source": [
    "f = open('students.json', 'w+')\n",
    "x = json.dumps(students)\n",
    "f.write(x)"
   ]
  }
 ],
 "metadata": {
  "kernelspec": {
   "display_name": "Python 3 (ipykernel)",
   "language": "python",
   "name": "python3"
  },
  "language_info": {
   "codemirror_mode": {
    "name": "ipython",
    "version": 3
   },
   "file_extension": ".py",
   "mimetype": "text/x-python",
   "name": "python",
   "nbconvert_exporter": "python",
   "pygments_lexer": "ipython3",
   "version": "3.9.5"
  }
 },
 "nbformat": 4,
 "nbformat_minor": 5
}
