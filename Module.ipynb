{
 "cells": [
  {
   "cell_type": "code",
   "execution_count": 10,
   "id": "9c87e861",
   "metadata": {},
   "outputs": [],
   "source": [
    "import json\n",
    "import random\n",
    "import requests\n",
    "from tqdm.notebook import trange, tqdm"
   ]
  },
  {
   "cell_type": "code",
   "execution_count": 2,
   "id": "8543f6a2",
   "metadata": {},
   "outputs": [],
   "source": [
    "def loadjson(filename):\n",
    "    f = open(filename, 'r')\n",
    "    return json.load(f)\n",
    "\n",
    "def makecons(keys):\n",
    "    keys = keys.replace(' ', '').split(',')\n",
    "    init = f\"def __init__(self, {', '.join(keys)}):\\n\" + '\\n'.join([f\"    self.{key} = {key}\" for key in keys])\n",
    "    todict = \"def todict(self):\\n    return {\\n\" + ',\\n'.join([f\"        '{key}' : self.{key}\" for key in keys]) + '\\n    }'\n",
    "    print(init)\n",
    "    print()\n",
    "    print(todict)\n",
    "    \n",
    "def getJsonFromUrl(url):\n",
    "    x = requests.get(url)\n",
    "    return json.loads(x.text)\n",
    "\n",
    "def dumpfile(dic, filename):\n",
    "    f = open(filename, 'w+')\n",
    "    x = json.dumps(dic)\n",
    "    f.write(x)"
   ]
  },
  {
   "cell_type": "code",
   "execution_count": 3,
   "id": "5695f2e2",
   "metadata": {},
   "outputs": [],
   "source": [
    "class Folder:\n",
    "    def __init__(self, idx, title, parentFolder, openDate, closeDate):\n",
    "        self.idx = idx\n",
    "        self.title = title\n",
    "        self.parentFolder = parentFolder\n",
    "        self.openDate = openDate\n",
    "        self.closeDate = closeDate\n",
    "        \n",
    "    def todict(self):\n",
    "        return {\n",
    "            \"idx\" : self.idx,\n",
    "            \"title\" : self.title,\n",
    "            \"parentFolder\" : self.parentFolder,\n",
    "            \"openDate\" : self.openDate,\n",
    "            \"closeDate\" : self.closeDate\n",
    "        }\n",
    "    \n",
    "class File:\n",
    "    def __init__(self, idx, title, path, size, parentFolder, openDate, closeDate):\n",
    "        self.idx = idx\n",
    "        self.title = title\n",
    "        self.path = path\n",
    "        self.size = size\n",
    "        self.parentFolder = parentFolder\n",
    "        self.openDate = openDate\n",
    "        self.closeDate = closeDate\n",
    "\n",
    "    def todict(self):\n",
    "        return {\n",
    "            'idx' : self.idx,\n",
    "            'title' : self.title,\n",
    "            'path' : self.path,\n",
    "            'size' : self.size,\n",
    "            'parentFolder' : self.parentFolder,\n",
    "            'openDate' : self.openDate,\n",
    "            'closeDate' : self.closeDate\n",
    "        } \n",
    "    \n",
    "def create_main_mod_folder(mod):\n",
    "    code, year, sem = mod.split('-')\n",
    "    year = int(year)\n",
    "    sem = int(sem)\n",
    "    year = year + 1 if sem == 2 else year\n",
    "    startMonth = 8 if sem == 1 else 1\n",
    "    endMonth = 12 if sem == 1 else 5\n",
    "    idx = mod + '-Main'\n",
    "    title = 'All Files'\n",
    "    parentFolder = None\n",
    "    openDate = f\"{year}-{startMonth}-01T12:00:00\"\n",
    "    closeDate = f\"{year}-{endMonth}-31T12:00:00\"\n",
    "    return Folder(idx, title, parentFolder, openDate, closeDate)"
   ]
  },
  {
   "cell_type": "code",
   "execution_count": 4,
   "id": "b9260f14",
   "metadata": {},
   "outputs": [],
   "source": [
    "class Lesson:\n",
    "    def __init__(self, code, moduleId, startTime, endTime, venue, day, weeks, lessonType):\n",
    "        self.code = code\n",
    "        self.moduleId = moduleId\n",
    "        self.startTime = startTime\n",
    "        self.endTime = endTime\n",
    "        self.venue = venue\n",
    "        self.day = day\n",
    "        self.weeks = weeks\n",
    "        self.lessonType = lessonType\n",
    "\n",
    "    def todict(self):\n",
    "        return {\n",
    "            'code' : self.code,\n",
    "            'moduleId' : self.moduleId,\n",
    "            'startTime' : self.startTime,\n",
    "            'endTime' : self.endTime,\n",
    "            'venue' : self.venue,\n",
    "            'day' : self.day,\n",
    "            'weeks' : self.weeks,\n",
    "            'lessonType' : self.lessonType\n",
    "        }"
   ]
  },
  {
   "cell_type": "code",
   "execution_count": 5,
   "id": "a2d95869",
   "metadata": {},
   "outputs": [],
   "source": [
    "class Module:\n",
    "    def __init__(self, \n",
    "                 mod_id, \n",
    "                 title, \n",
    "                 description, \n",
    "                 credits\n",
    "                ):\n",
    "        self.mod_id = mod_id\n",
    "        self.title = title\n",
    "        self.description = description\n",
    "        self.credits = credits\n",
    "        self.files = create_main_mod_folder(mod_id)\n",
    "    \n",
    "    def todict(self):\n",
    "        return {\n",
    "            \"id\" : self.mod_id,\n",
    "            \"title\" : self.title,\n",
    "            \"description\" : self.description,\n",
    "            \"credits\" : self.credits,\n",
    "            \"files\" : self.files.todict()\n",
    "        }"
   ]
  },
  {
   "cell_type": "code",
   "execution_count": 24,
   "id": "0ca38bb3",
   "metadata": {},
   "outputs": [],
   "source": [
    "N = 40\n",
    "all_modules = dict(loadjson('_AllModules2018.json'))\n",
    "sample = random.sample(list(all_modules), N)"
   ]
  },
  {
   "cell_type": "code",
   "execution_count": 25,
   "id": "e6d2e2c2",
   "metadata": {},
   "outputs": [
    {
     "data": {
      "application/vnd.jupyter.widget-view+json": {
       "model_id": "e193ef88d8364d4c99be150d91024701",
       "version_major": 2,
       "version_minor": 0
      },
      "text/plain": [
       "  0%|          | 0/40 [00:00<?, ?it/s]"
      ]
     },
     "metadata": {},
     "output_type": "display_data"
    }
   ],
   "source": [
    "lessons = []\n",
    "modules = []\n",
    "for mod in tqdm(sample):\n",
    "    for year in [2019, 2020, 2021]:\n",
    "            mod_id = f\"{mod}-{year}\"\n",
    "            title = all_modules[mod]\n",
    "            mod_data = {}\n",
    "            try:\n",
    "                mod_data = getJsonFromUrl(f'https://api.nusmods.com/v2/{year}-{year + 1}/modules/{mod}.json')\n",
    "            except:\n",
    "                continue\n",
    "            description = mod_data.get('description')\n",
    "            credits = mod_data.get('moduleCredit')\n",
    "            sem_data = mod_data.get('semesterData')\n",
    "            for sem in [1, 2]:\n",
    "                current_sem_mod_id = f\"{mod_id}-{sem}\"\n",
    "                current_sem_data = list(filter(lambda x: x.get('semester') == sem, sem_data))\n",
    "                if not len(current_sem_data): continue\n",
    "                current_sem_lessons = current_sem_data[0].get('timetable')\n",
    "                i = 0\n",
    "                for lesson in current_sem_lessons:\n",
    "                    code = lesson.get('classNo')\n",
    "                    moduleId = current_sem_mod_id\n",
    "                    startTime = lesson.get('startTime')\n",
    "                    endTime = lesson.get('endTime')\n",
    "                    venue = lesson.get('venue')\n",
    "                    day = lesson.get('day')\n",
    "                    weeks = lesson.get('weeks')\n",
    "                    lessonType = lesson.get('lessonType')\n",
    "                    if lessonType not in ['Lecture', 'Tutorial']: continue\n",
    "                    lessonObj = Lesson(code, moduleId, startTime, endTime, venue, day, weeks, lessonType)\n",
    "                    lessons.append(lessonObj)\n",
    "                    i += 1\n",
    "                if i == 0: continue\n",
    "                modules.append(Module(current_sem_mod_id, title, description, credits))"
   ]
  },
  {
   "cell_type": "code",
   "execution_count": 26,
   "id": "1676633f",
   "metadata": {},
   "outputs": [],
   "source": [
    "modules = [module.todict() for module in modules]\n",
    "lessons = [lesson.todict() for lesson in lessons]\n",
    "dumpfile(modules, 'modules.json')\n",
    "dumpfile(lessons, 'lessons.json')"
   ]
  },
  {
   "cell_type": "code",
   "execution_count": 27,
   "id": "ad3dd606",
   "metadata": {},
   "outputs": [
    {
     "data": {
      "text/plain": [
       "86"
      ]
     },
     "execution_count": 27,
     "metadata": {},
     "output_type": "execute_result"
    }
   ],
   "source": [
    "len(modules)"
   ]
  },
  {
   "cell_type": "code",
   "execution_count": 28,
   "id": "1042049e",
   "metadata": {},
   "outputs": [
    {
     "data": {
      "text/plain": [
       "445"
      ]
     },
     "execution_count": 28,
     "metadata": {},
     "output_type": "execute_result"
    }
   ],
   "source": [
    "len(lessons)"
   ]
  },
  {
   "cell_type": "code",
   "execution_count": null,
   "id": "f8143aee",
   "metadata": {},
   "outputs": [],
   "source": []
  }
 ],
 "metadata": {
  "kernelspec": {
   "display_name": "Python 3 (ipykernel)",
   "language": "python",
   "name": "python3"
  },
  "language_info": {
   "codemirror_mode": {
    "name": "ipython",
    "version": 3
   },
   "file_extension": ".py",
   "mimetype": "text/x-python",
   "name": "python",
   "nbconvert_exporter": "python",
   "pygments_lexer": "ipython3",
   "version": "3.9.5"
  }
 },
 "nbformat": 4,
 "nbformat_minor": 5
}
